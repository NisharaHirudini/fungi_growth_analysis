{
 "cells": [
  {
   "cell_type": "code",
   "execution_count": 1,
   "id": "69d52a4a",
   "metadata": {},
   "outputs": [],
   "source": [
    "import cv2\n",
    "import numpy as np\n",
    "\n",
    "#Read image 10.jpg\n",
    "path = '9.jpg'\n",
    "img = cv2.imread(path)\n",
    "\n",
    "#Read image converted to grayscale\n",
    "image = cv2.imread('9.jpg', cv2.IMREAD_GRAYSCALE)\n",
    "    \n",
    "# Function definition\n",
    "def crop_circle(image, radius_factor=0.85):\n",
    "    # Get the dimensions of the image\n",
    "    height, width = image.shape[:2]\n",
    "    # Create a black image with the same dimensions\n",
    "    mask = np.zeros((height, width), dtype=np.uint8)\n",
    "    # Define the center and radius of the circle\n",
    "    center = (int(width / 2), int(height / 2))\n",
    "    original_radius = min(center[0], center[1])\n",
    "    radius = int(original_radius * radius_factor)\n",
    "    # Draw the circle on the mask\n",
    "    cv2.circle(mask, center, radius, (255,), -1, cv2.LINE_AA)\n",
    "    # Apply the mask to the original image\n",
    "    masked_image = cv2.bitwise_and(image, image, mask=mask)\n",
    "    return masked_image\n",
    "\n",
    "# Crop the image\n",
    "cropped_image = crop_circle(image, radius_factor=0.8)\n",
    "\n",
    "# Specify the new dimensions\n",
    "resized_image = cv2.resize(cropped_image, (512, 512))\n",
    "\n",
    "# Apply Gaussian blur to reduce noise and improve edge detection\n",
    "blurred_image = cv2.GaussianBlur(resized_image, (5, 5), 0)\n",
    "\n",
    "# Display images\n",
    "cv2.imshow('Original Image', img)\n",
    "cv2.imshow('Grayscale Image', image)\n",
    "cv2.imshow('Cropped Image', cropped_image)\n",
    "cv2.imshow('Resized Image', resized_image)\n",
    "cv2.imshow('Blurred Image', blurred_image)\n",
    " \n",
    "# Close the image window\n",
    "cv2.waitKey(0)\n",
    "# Close all OpenCV windows\n",
    "cv2.destroyAllWindows()"
   ]
  },
  {
   "cell_type": "code",
   "execution_count": null,
   "id": "7fe76401",
   "metadata": {},
   "outputs": [],
   "source": []
  }
 ],
 "metadata": {
  "kernelspec": {
   "display_name": "Python 3 (ipykernel)",
   "language": "python",
   "name": "python3"
  },
  "language_info": {
   "codemirror_mode": {
    "name": "ipython",
    "version": 3
   },
   "file_extension": ".py",
   "mimetype": "text/x-python",
   "name": "python",
   "nbconvert_exporter": "python",
   "pygments_lexer": "ipython3",
   "version": "3.7.1"
  }
 },
 "nbformat": 4,
 "nbformat_minor": 5
}
