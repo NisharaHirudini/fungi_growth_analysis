{
 "cells": [
  {
   "cell_type": "code",
   "execution_count": 1,
   "id": "974dea15",
   "metadata": {},
   "outputs": [],
   "source": [
    "import cv2\n",
    "import numpy as np\n",
    "\n",
    "# File list creation\n",
    "filenames = [f\"{i}.jpg\" for i in range(1, 17)]\n",
    "\n",
    "# Loops through each filename in the filenames list\n",
    "for filename in filenames:\n",
    "    # Read the image\n",
    "    image = cv2.imread(filename, cv2.IMREAD_GRAYSCALE)\n",
    "\n",
    "    # Check if the image was successfully loaded\n",
    "    if image is None:\n",
    "        print(f\"Error loading image {filename}\")\n",
    "        continue\n",
    "    \n",
    "    # Function definition\n",
    "    def crop_circle(image, radius_factor=0.85):\n",
    "        # Get the dimensions of the image\n",
    "        height, width = image.shape[:2]\n",
    "        # Create a black image with the same dimensions\n",
    "        mask = np.zeros((height, width), dtype=np.uint8)\n",
    "        # Define the center and radius of the circle\n",
    "        center = (int(width / 2), int(height / 2))\n",
    "        original_radius = min(center[0], center[1])\n",
    "        radius = int(original_radius * radius_factor)\n",
    "        # Draw the circle on the mask\n",
    "        cv2.circle(mask, center, radius, (255,), -1, cv2.LINE_AA)\n",
    "        # Apply the mask to the original image\n",
    "        masked_image = cv2.bitwise_and(image, image, mask=mask)\n",
    "        return masked_image\n",
    "    \n",
    "    # Crop the image\n",
    "    cropped_image = crop_circle(image, radius_factor=0.8)\n",
    "    \n",
    "    # Specify the new dimensions\n",
    "    resized_image = cv2.resize(cropped_image, (512, 512))\n",
    "\n",
    "    # Apply Gaussian blur to reduce noise and improve edge detection\n",
    "    blurred_image = cv2.GaussianBlur(resized_image, (5, 5), 0)\n",
    "\n",
    "\n",
    "    # Display images\n",
    "    cv2.imshow(f'Original Grayscale Image {filename}', image)\n",
    "    cv2.imshow(f'Cropped Image {filename}', cropped_image)\n",
    "    cv2.imshow(f'Resized Image {filename}', resized_image)\n",
    "    cv2.imshow(f'Blurred Image {filename}', blurred_image)\n",
    "\n",
    "    # Wait for a short period to display each image\n",
    "    cv2.waitKey(100)  \n",
    "\n",
    "# Close the image window\n",
    "cv2.waitKey(0)\n",
    "# Close all OpenCV windows\n",
    "cv2.destroyAllWindows()"
   ]
  },
  {
   "cell_type": "code",
   "execution_count": null,
   "id": "1974eb53",
   "metadata": {},
   "outputs": [],
   "source": []
  }
 ],
 "metadata": {
  "kernelspec": {
   "display_name": "Python 3 (ipykernel)",
   "language": "python",
   "name": "python3"
  },
  "language_info": {
   "codemirror_mode": {
    "name": "ipython",
    "version": 3
   },
   "file_extension": ".py",
   "mimetype": "text/x-python",
   "name": "python",
   "nbconvert_exporter": "python",
   "pygments_lexer": "ipython3",
   "version": "3.7.1"
  }
 },
 "nbformat": 4,
 "nbformat_minor": 5
}
